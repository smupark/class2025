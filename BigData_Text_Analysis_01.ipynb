{
  "nbformat": 4,
  "nbformat_minor": 0,
  "metadata": {
    "colab": {
      "provenance": [],
      "authorship_tag": "ABX9TyN17L1YPDRTUYL16SuqBCvX",
      "include_colab_link": true
    },
    "kernelspec": {
      "name": "python3",
      "display_name": "Python 3"
    },
    "language_info": {
      "name": "python"
    }
  },
  "cells": [
    {
      "cell_type": "markdown",
      "metadata": {
        "id": "view-in-github",
        "colab_type": "text"
      },
      "source": [
        "<a href=\"https://colab.research.google.com/github/smupark/class2025/blob/main/BigData_Text_Analysis_01.ipynb\" target=\"_parent\"><img src=\"https://colab.research.google.com/assets/colab-badge.svg\" alt=\"Open In Colab\"/></a>"
      ]
    },
    {
      "cell_type": "markdown",
      "source": [
        "# 텍스트 전처리-01\n",
        "1. 텍스트 정제(Text cleaning)\n",
        "  - 노이즈 제거\n",
        "    - 대소문자 통합\n",
        "    - 불필요한 단어 제거  \n",
        "\n",
        "\n",
        "2. 불용어(stopwords) 처리\n",
        "  - 기능어 제거\n",
        "  - 선택적으로 추가해 조정\n",
        "  - nltk의 stopwords 사용\n",
        "\n",
        "3. 정규표현식\n",
        "  - 불필요한 특수기호, 숫자 등 삭제"
      ],
      "metadata": {
        "id": "9alakMCSHLVx"
      }
    },
    {
      "cell_type": "markdown",
      "source": [
        "## 영어 불용어\n",
        "- 의미상 별 역할이 없는 기능어 위주로 구성\n",
        "- nltk의 기본 stopwords 사용\n",
        "- 기타 추가 정의한 stopwords 사용"
      ],
      "metadata": {
        "id": "ZzthlL26Iygd"
      }
    },
    {
      "cell_type": "code",
      "source": [
        "# 영어 기능어\n",
        "import nltk\n",
        "nltk.download('stopwords')\n",
        "from nltk.corpus import stopwords\n",
        "stop_words_list = stopwords.words('english')\n",
        "print('불용어 개수 :', len(stop_words_list))\n",
        "print('불용어 10개 출력 :',stop_words_list[:10])"
      ],
      "metadata": {
        "colab": {
          "base_uri": "https://localhost:8080/"
        },
        "id": "TfVdEm2pJGr8",
        "outputId": "065c3f71-6e9f-49de-eff5-e3124e0c2842"
      },
      "execution_count": null,
      "outputs": [
        {
          "output_type": "stream",
          "name": "stdout",
          "text": [
            "불용어 개수 : 198\n",
            "불용어 10개 출력 : ['a', 'about', 'above', 'after', 'again', 'against', 'ain', 'all', 'am', 'an']\n"
          ]
        },
        {
          "output_type": "stream",
          "name": "stderr",
          "text": [
            "[nltk_data] Downloading package stopwords to /root/nltk_data...\n",
            "[nltk_data]   Unzipping corpora/stopwords.zip.\n"
          ]
        }
      ]
    },
    {
      "cell_type": "markdown",
      "source": [
        "## 한국어 불용어\n",
        "- 은, 는, 이, 가 등의 조사, 어미 등\n",
        "- https://www.ranks.nl/stopwords/korean 참고\n",
        "\n",
        "- 불용어 제거 함수\n",
        "\n",
        "```\n",
        "stopword_list = ['은', '는', '이', '가', '에서', '어요', '으로', '네요', '지만', '에게', '습니다', '는데', '지만', '한다', '다는', '라고', '다고', '라는', '면서', '까지',\n",
        "                 '입니다', '아니', '보다', '그리고', '합니다', '면서', '아요', '해서', '는다', '해서', '으면', '세요', '처럼', '된다', '나오', '다고', '다는',\n",
        "                 '으면', '다가', '라고', '라는', '부터', '네요', '없이', '그리고', '려고', '입니다', '아서', '는지', '인데', '어떻게', '에게', '너무']\n",
        "\n",
        "불용어 제거 함수\n",
        "def remove_stopwords(words):\n",
        "    result = []\n",
        "    for w in words:\n",
        "        if w not in stopword_list:\n",
        "            result.append(w)\n",
        "    return result\n",
        "\n",
        "```"
      ],
      "metadata": {
        "id": "qbTfKy6LIPQ8"
      }
    },
    {
      "cell_type": "code",
      "execution_count": null,
      "metadata": {
        "id": "JsaZ4bETG2eI"
      },
      "outputs": [],
      "source": []
    },
    {
      "cell_type": "markdown",
      "source": [
        "## 정규표현식\n",
        "- Regular Expression에 사용하는 기호 설명\n",
        "\n",
        "| 특수문자 | 설명 | 예시 |\n",
        "|---|---|---|\n",
        " .  |  한 개의 임의의 문자(줄바꿈 문자인 \\n는 제외)   |  \"a.c” : “abc” or akc” → a와 c 사이에 임의의 문자 가능\n",
        " ?  | 앞의 문자가 존재할 수도 있고, 존재하지 않을 수도 있다. (문자가 0개 또는 1개)  |  ab?c”\n",
        " *\t| 앞의 문자가 무한개로 존재할 수도 있고, 존재하지 않을 수도 있다. (문자가 0개 이상)\t|“ab*c” : * 바로 앞의 문자(b)가 존재 X or 여러개 존재 가능 → ac, abc, abbc, ,... 무수히 가능\n",
        " +\t| 앞의 문자가 최소 한 개 이상 존재 | \"ab+c” : + 바로 앞의 문자(b)가 1개 이상 존재 가능 → ac, abc, abbc, ,... 무수히 가능\n",
        "^\t| 뒤의 문자열로 문자열이 시작 |\t“^ab” : ab로 시작되는 문자열 → abc, abcd 등\n",
        "\\$\t| 앞의 문자열로 문자열이 끝남\t|“ab$” : ab로 끝나는 문자열 → cab, dab 등\n",
        "{숫자} 기호\t| 숫자만큼 반복\t|\"ab{2}c” : a와 c 사이에 b 2개 있는 문자열 → abbc\n",
        "{숫자1, 숫자2} 기호\t|숫자1 이상 숫자2 이하만큼 반복 |?, *, +를 이것으로 대체할 수 있습니다. \t\"ab{2,8}c” : a와 c 사이에 b가 2이상 8이하인 문자열\n",
        "[ ]\t| 대괄호 안의 문자들 중 한 개의 문자와 매치 | [a-zA-Z]는 알파벳 전체를 의미하는 범위이며, 문자열에 알파벳이 존재하면 매치를 의미합니다.\t[abc] : a or b or c 만 매치\n",
        "[^문자]| \t해당 문자를 제외한 문자를 매치합니다 |\t\"[^abc]” : a or b or c가 아닌 문자열만 매칭\n",
        "\\|\t| AlB와 같이 쓰이며 A 또는 B의 의미를 가집니다. |\t“a|b” : a or b\n"
      ],
      "metadata": {
        "id": "OwGZV7Z7MCJi"
      }
    },
    {
      "cell_type": "markdown",
      "source": [],
      "metadata": {
        "id": "WAYViXN_MU12"
      }
    },
    {
      "cell_type": "code",
      "source": [],
      "metadata": {
        "id": "Z17SqhQBMVJY"
      },
      "execution_count": null,
      "outputs": []
    },
    {
      "cell_type": "markdown",
      "source": [
        "### re.split()\n",
        "- 텍스트 문자열을 분리해 리스트로 변환"
      ],
      "metadata": {
        "id": "C3_jHL2sMVVX"
      }
    },
    {
      "cell_type": "code",
      "source": [
        "import re\n",
        "\n",
        "# 공백 기준 분리\n",
        "text = \"사과 딸기 수박 메론 바나나\"\n",
        "re.split(\" \", text) # 공백 기준 분리\n",
        "\n",
        "\n"
      ],
      "metadata": {
        "colab": {
          "base_uri": "https://localhost:8080/"
        },
        "id": "TMfZJEfiMVrb",
        "outputId": "ed5f3ecb-fbd0-408d-dfce-a0b3496dc4c0"
      },
      "execution_count": null,
      "outputs": [
        {
          "output_type": "execute_result",
          "data": {
            "text/plain": [
              "['사과', '딸기', '수박', '메론', '바나나']"
            ]
          },
          "metadata": {},
          "execution_count": 7
        }
      ]
    },
    {
      "cell_type": "code",
      "source": [
        "# - 기준 분리\n",
        "text = \"사과-딸기-수박-메론-바나나\"\n",
        "re.split(\"-\", text) # - 기준 분리"
      ],
      "metadata": {
        "colab": {
          "base_uri": "https://localhost:8080/"
        },
        "id": "-JrFtmQkVVlM",
        "outputId": "95387851-1d6e-4d71-cf54-f7032f4ba75a"
      },
      "execution_count": null,
      "outputs": [
        {
          "output_type": "execute_result",
          "data": {
            "text/plain": [
              "['사과', '딸기', '수박', '메론', '바나나']"
            ]
          },
          "metadata": {},
          "execution_count": 9
        }
      ]
    },
    {
      "cell_type": "markdown",
      "source": [
        "### re.findall()\n",
        "- 정규표현식과 일치하는 모든 문자열을 리스트로 변환\n",
        "- 해당사항 없으면 빈 리스트 리턴\n",
        "\n",
        "|기호|\t의미 |\n",
        "|---|---|\n",
        "\\\\|역 슬래쉬 문자 자체를 의미|\n",
        "\\\\d| \t모든 숫자를 의미 [0-9]와 의미가 동일|\n",
        "\\D| \t숫자를 제외한 모든 문자를 의미 [^0-9]와 의미가 동일|\n",
        "\\s| \t공백을 의미합니다. [ \\t\\n\\r\\f\\v]와 의미가 동일합니다.\n",
        "\\S| \t공백을 제외한 문자를 의미합니다. [^ \\t\\n\\r\\f\\v]와 의미가 동일합니다.\n",
        "\\w| \t 문자 또는 숫자를 의미합니다. [a-zA-Z0-9]와 의미가 동일합니다\n",
        "\\W| \t문자 또는 숫자가 아닌 문자를 의미합니다. [^a-zA-Z0-9]와 의미가 동일합니다."
      ],
      "metadata": {
        "id": "OR8mteMWVnHa"
      }
    },
    {
      "cell_type": "markdown",
      "source": [
        "### \\d와 \\\\\\d의 차이\n",
        "\n",
        "- \\d is the fundamental regular expression pattern for a digit.\n",
        "\\\\d is the way you usually write \\d within a Python string to ensure it's interpreted correctly as a regular expression pattern.\n",
        "\n",
        "```\n",
        "1. \\d\n",
        "raw string의 의미로 아래처럼 r사용\n",
        "re.findall(r'\\d+', 'My phone number is 123-456-7890')\n",
        "\n",
        "```\n",
        "\n",
        "```\n",
        "2. \\\\d\n",
        "re.findall('\\\\d+', 'My phone number is 123-456-7890')\n",
        "\n",
        "\\d matches a single digit.\n",
        "\\\\d? (which is the same as \\d? in a raw string) matches zero or one digit due to the ?.\n",
        "```\n"
      ],
      "metadata": {
        "id": "BopV62jjuSRF"
      }
    },
    {
      "cell_type": "code",
      "source": [
        "# re.findall()\n",
        "import re\n",
        "text = \"\"\"\n",
        "이름 : 박명수\n",
        "전화번호 : 010 - 1234 - 1234\n",
        "나이: 비밀\n",
        "성별 : 안가르쳐 줌\n",
        "\"\"\"\n",
        "print(text)\n",
        "re.findall(\"\\\\d+\", text) #WWd는 모든 숫자 의미() +는 하나 또는 그 이상의 것\n",
        "# 마지막 부분은 아래와 동일\n",
        "# re.findall(r\"\\d\", text)\n",
        "# 위의 코드에서 괄호 안의 r은 'raw string'의 의미. r을 사용할 경우 \\d로 쓰면 됨."
      ],
      "metadata": {
        "colab": {
          "base_uri": "https://localhost:8080/"
        },
        "id": "5we4PABGVzUw",
        "outputId": "a44549f3-aa30-4a6d-f2a9-f467239329d7"
      },
      "execution_count": null,
      "outputs": [
        {
          "output_type": "stream",
          "name": "stdout",
          "text": [
            "\n",
            "이름 : 박명수\n",
            "전화번호 : 010 - 1234 - 1234\n",
            "나이: 비밀 \n",
            "성별 : 안가르쳐 줌\n",
            "\n"
          ]
        },
        {
          "output_type": "execute_result",
          "data": {
            "text/plain": [
              "['010', '1234', '1234']"
            ]
          },
          "metadata": {},
          "execution_count": 3
        }
      ]
    },
    {
      "cell_type": "markdown",
      "source": [
        "## 불용어 제거\n",
        "- nltk 사용"
      ],
      "metadata": {
        "id": "3JitrOdJv_FH"
      }
    },
    {
      "cell_type": "markdown",
      "source": [
        "### nltk 불용어 사용\n"
      ],
      "metadata": {
        "id": "rJPl_SrxwqWH"
      }
    },
    {
      "cell_type": "code",
      "source": [
        "#\n",
        "\n",
        "import nltk\n",
        "nltk.download('stopwords')\n",
        "nltk.download('punkt_tab')\n",
        "from nltk.tokenize import word_tokenize\n",
        "from nltk.corpus import stopwords\n",
        "\n",
        "example = \"Family is not an important thing. It's everything.\"\n",
        "stop_words = set(stopwords.words('english'))\n",
        "word_tokens = word_tokenize(example)\n",
        "\n",
        "result = []\n",
        "for word in word_tokens:\n",
        "    if word not in stop_words:\n",
        "        result.append(word)\n",
        "\n",
        "print('불용어 제거 전 :',word_tokens)\n",
        "print('불용어 제거 후 :',result)"
      ],
      "metadata": {
        "colab": {
          "base_uri": "https://localhost:8080/"
        },
        "id": "R6KXF3RNwyTO",
        "outputId": "25454376-b72d-43b5-951c-755c5fb0bd2d"
      },
      "execution_count": null,
      "outputs": [
        {
          "output_type": "stream",
          "name": "stderr",
          "text": [
            "[nltk_data] Downloading package stopwords to /root/nltk_data...\n",
            "[nltk_data]   Package stopwords is already up-to-date!\n",
            "[nltk_data] Downloading package punkt_tab to /root/nltk_data...\n",
            "[nltk_data]   Unzipping tokenizers/punkt_tab.zip.\n"
          ]
        },
        {
          "output_type": "stream",
          "name": "stdout",
          "text": [
            "불용어 제거 전 : ['Family', 'is', 'not', 'an', 'important', 'thing', '.', 'It', \"'s\", 'everything', '.']\n",
            "불용어 제거 후 : ['Family', 'important', 'thing', '.', 'It', \"'s\", 'everything', '.']\n"
          ]
        }
      ]
    },
    {
      "cell_type": "markdown",
      "source": [],
      "metadata": {
        "id": "BTQlJjqjwMQm"
      }
    },
    {
      "cell_type": "markdown",
      "source": [],
      "metadata": {
        "id": "4o7oALvNwwrW"
      }
    }
  ]
}